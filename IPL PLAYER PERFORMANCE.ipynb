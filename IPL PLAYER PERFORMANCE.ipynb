{
  "nbformat": 4,
  "nbformat_minor": 0,
  "metadata": {
    "colab": {
      "name": "syadavsir.ipynb",
      "provenance": [],
      "collapsed_sections": [],
      "toc_visible": true
    },
    "kernelspec": {
      "name": "python3",
      "display_name": "Python 3"
    }
  },
  "cells": [
    {
      "cell_type": "code",
      "metadata": {
        "id": "S-V9QjmWBexq",
        "colab_type": "code",
        "outputId": "70b3afa2-acf9-4f33-eac7-0bf8457479c1",
        "colab": {
          "base_uri": "https://localhost:8080/",
          "height": 122
        }
      },
      "source": [
        "from google.colab import drive\n",
        "drive.mount('/gdrive')"
      ],
      "execution_count": 0,
      "outputs": [
        {
          "output_type": "stream",
          "text": [
            "Go to this URL in a browser: https://accounts.google.com/o/oauth2/auth?client_id=947318989803-6bn6qk8qdgf4n4g3pfee6491hc0brc4i.apps.googleusercontent.com&redirect_uri=urn%3aietf%3awg%3aoauth%3a2.0%3aoob&response_type=code&scope=email%20https%3a%2f%2fwww.googleapis.com%2fauth%2fdocs.test%20https%3a%2f%2fwww.googleapis.com%2fauth%2fdrive%20https%3a%2f%2fwww.googleapis.com%2fauth%2fdrive.photos.readonly%20https%3a%2f%2fwww.googleapis.com%2fauth%2fpeopleapi.readonly\n",
            "\n",
            "Enter your authorization code:\n",
            "··········\n",
            "Mounted at /gdrive\n"
          ],
          "name": "stdout"
        }
      ]
    },
    {
      "cell_type": "code",
      "metadata": {
        "id": "33F_Q7QEBewb",
        "colab_type": "code",
        "outputId": "95f9ecb1-aca5-4bea-efd5-21bf538a0f1c",
        "colab": {
          "base_uri": "https://localhost:8080/",
          "height": 394
        }
      },
      "source": [
        "import numpy as np \n",
        "import pandas as pd \n",
        "import matplotlib.pyplot as plt\n",
        "from sklearn import preprocessing\n",
        "from sklearn.model_selection import cross_validate\n",
        "from sklearn import linear_model\n",
        "\n",
        "\n",
        "\n",
        "\n",
        "delivery_data=pd.read_csv(\"/gdrive/My Drive/deliveries.csv\")\n",
        "match_data=pd.read_csv(\"/gdrive/My Drive/matches.csv\")\n",
        "\n",
        "delivery_data.head()\n",
        "match_data.head()"
      ],
      "execution_count": 0,
      "outputs": [
        {
          "output_type": "execute_result",
          "data": {
            "text/html": [
              "<div>\n",
              "<style scoped>\n",
              "    .dataframe tbody tr th:only-of-type {\n",
              "        vertical-align: middle;\n",
              "    }\n",
              "\n",
              "    .dataframe tbody tr th {\n",
              "        vertical-align: top;\n",
              "    }\n",
              "\n",
              "    .dataframe thead th {\n",
              "        text-align: right;\n",
              "    }\n",
              "</style>\n",
              "<table border=\"1\" class=\"dataframe\">\n",
              "  <thead>\n",
              "    <tr style=\"text-align: right;\">\n",
              "      <th></th>\n",
              "      <th>match_id</th>\n",
              "      <th>inning</th>\n",
              "      <th>batting_team</th>\n",
              "      <th>bowling_team</th>\n",
              "      <th>over</th>\n",
              "      <th>ball</th>\n",
              "      <th>batsman</th>\n",
              "      <th>non_striker</th>\n",
              "      <th>bowler</th>\n",
              "      <th>is_super_over</th>\n",
              "      <th>wide_runs</th>\n",
              "      <th>bye_runs</th>\n",
              "      <th>legbye_runs</th>\n",
              "      <th>noball_runs</th>\n",
              "      <th>penalty_runs</th>\n",
              "      <th>batsman_runs</th>\n",
              "      <th>extra_runs</th>\n",
              "      <th>total_runs</th>\n",
              "      <th>player_dismissed</th>\n",
              "      <th>dismissal_kind</th>\n",
              "      <th>fielder</th>\n",
              "    </tr>\n",
              "  </thead>\n",
              "  <tbody>\n",
              "    <tr>\n",
              "      <th>0</th>\n",
              "      <td>1</td>\n",
              "      <td>1</td>\n",
              "      <td>Kolkata Knight Riders</td>\n",
              "      <td>Royal Challengers Bangalore</td>\n",
              "      <td>1</td>\n",
              "      <td>1</td>\n",
              "      <td>SC Ganguly</td>\n",
              "      <td>BB McCullum</td>\n",
              "      <td>P Kumar</td>\n",
              "      <td>0</td>\n",
              "      <td>0</td>\n",
              "      <td>0</td>\n",
              "      <td>1</td>\n",
              "      <td>0</td>\n",
              "      <td>0</td>\n",
              "      <td>0</td>\n",
              "      <td>1</td>\n",
              "      <td>1</td>\n",
              "      <td>NaN</td>\n",
              "      <td>NaN</td>\n",
              "      <td>NaN</td>\n",
              "    </tr>\n",
              "    <tr>\n",
              "      <th>1</th>\n",
              "      <td>1</td>\n",
              "      <td>1</td>\n",
              "      <td>Kolkata Knight Riders</td>\n",
              "      <td>Royal Challengers Bangalore</td>\n",
              "      <td>1</td>\n",
              "      <td>2</td>\n",
              "      <td>BB McCullum</td>\n",
              "      <td>SC Ganguly</td>\n",
              "      <td>P Kumar</td>\n",
              "      <td>0</td>\n",
              "      <td>0</td>\n",
              "      <td>0</td>\n",
              "      <td>0</td>\n",
              "      <td>0</td>\n",
              "      <td>0</td>\n",
              "      <td>0</td>\n",
              "      <td>0</td>\n",
              "      <td>0</td>\n",
              "      <td>NaN</td>\n",
              "      <td>NaN</td>\n",
              "      <td>NaN</td>\n",
              "    </tr>\n",
              "    <tr>\n",
              "      <th>2</th>\n",
              "      <td>1</td>\n",
              "      <td>1</td>\n",
              "      <td>Kolkata Knight Riders</td>\n",
              "      <td>Royal Challengers Bangalore</td>\n",
              "      <td>1</td>\n",
              "      <td>3</td>\n",
              "      <td>BB McCullum</td>\n",
              "      <td>SC Ganguly</td>\n",
              "      <td>P Kumar</td>\n",
              "      <td>0</td>\n",
              "      <td>1</td>\n",
              "      <td>0</td>\n",
              "      <td>0</td>\n",
              "      <td>0</td>\n",
              "      <td>0</td>\n",
              "      <td>0</td>\n",
              "      <td>1</td>\n",
              "      <td>1</td>\n",
              "      <td>NaN</td>\n",
              "      <td>NaN</td>\n",
              "      <td>NaN</td>\n",
              "    </tr>\n",
              "    <tr>\n",
              "      <th>3</th>\n",
              "      <td>1</td>\n",
              "      <td>1</td>\n",
              "      <td>Kolkata Knight Riders</td>\n",
              "      <td>Royal Challengers Bangalore</td>\n",
              "      <td>1</td>\n",
              "      <td>4</td>\n",
              "      <td>BB McCullum</td>\n",
              "      <td>SC Ganguly</td>\n",
              "      <td>P Kumar</td>\n",
              "      <td>0</td>\n",
              "      <td>0</td>\n",
              "      <td>0</td>\n",
              "      <td>0</td>\n",
              "      <td>0</td>\n",
              "      <td>0</td>\n",
              "      <td>0</td>\n",
              "      <td>0</td>\n",
              "      <td>0</td>\n",
              "      <td>NaN</td>\n",
              "      <td>NaN</td>\n",
              "      <td>NaN</td>\n",
              "    </tr>\n",
              "    <tr>\n",
              "      <th>4</th>\n",
              "      <td>1</td>\n",
              "      <td>1</td>\n",
              "      <td>Kolkata Knight Riders</td>\n",
              "      <td>Royal Challengers Bangalore</td>\n",
              "      <td>1</td>\n",
              "      <td>5</td>\n",
              "      <td>BB McCullum</td>\n",
              "      <td>SC Ganguly</td>\n",
              "      <td>P Kumar</td>\n",
              "      <td>0</td>\n",
              "      <td>0</td>\n",
              "      <td>0</td>\n",
              "      <td>0</td>\n",
              "      <td>0</td>\n",
              "      <td>0</td>\n",
              "      <td>0</td>\n",
              "      <td>0</td>\n",
              "      <td>0</td>\n",
              "      <td>NaN</td>\n",
              "      <td>NaN</td>\n",
              "      <td>NaN</td>\n",
              "    </tr>\n",
              "  </tbody>\n",
              "</table>\n",
              "</div>"
            ],
            "text/plain": [
              "   match_id  inning  ... dismissal_kind fielder\n",
              "0         1       1  ...            NaN     NaN\n",
              "1         1       1  ...            NaN     NaN\n",
              "2         1       1  ...            NaN     NaN\n",
              "3         1       1  ...            NaN     NaN\n",
              "4         1       1  ...            NaN     NaN\n",
              "\n",
              "[5 rows x 21 columns]"
            ]
          },
          "metadata": {
            "tags": []
          },
          "execution_count": 6
        }
      ]
    },
    {
      "cell_type": "markdown",
      "metadata": {
        "id": "BkHJQOaIDMBl",
        "colab_type": "text"
      },
      "source": [
        ""
      ]
    },
    {
      "cell_type": "code",
      "metadata": {
        "id": "N3h8uTEmCQ2L",
        "colab_type": "code",
        "outputId": "7d666f90-a301-4c19-ed44-e5f248faed1d",
        "colab": {
          "base_uri": "https://localhost:8080/",
          "height": 404
        }
      },
      "source": [
        "player_team=\"Royal Challengers Bangalore\"\n",
        "name='V Kohli'\n",
        "batsman_data=delivery_data[delivery_data.batsman==name]\n",
        "teams=pd.DataFrame(index=match_data.team1.unique())\n",
        "teams=teams.drop('Royal Challengers Bangalore')\n",
        "teams"
      ],
      "execution_count": 0,
      "outputs": [
        {
          "output_type": "execute_result",
          "data": {
            "text/html": [
              "<div>\n",
              "<style scoped>\n",
              "    .dataframe tbody tr th:only-of-type {\n",
              "        vertical-align: middle;\n",
              "    }\n",
              "\n",
              "    .dataframe tbody tr th {\n",
              "        vertical-align: top;\n",
              "    }\n",
              "\n",
              "    .dataframe thead th {\n",
              "        text-align: right;\n",
              "    }\n",
              "</style>\n",
              "<table border=\"1\" class=\"dataframe\">\n",
              "  <thead>\n",
              "    <tr style=\"text-align: right;\">\n",
              "      <th></th>\n",
              "    </tr>\n",
              "  </thead>\n",
              "  <tbody>\n",
              "    <tr>\n",
              "      <th>Kolkata Knight Riders</th>\n",
              "    </tr>\n",
              "    <tr>\n",
              "      <th>Chennai Super Kings</th>\n",
              "    </tr>\n",
              "    <tr>\n",
              "      <th>Rajasthan Royals</th>\n",
              "    </tr>\n",
              "    <tr>\n",
              "      <th>Mumbai Indians</th>\n",
              "    </tr>\n",
              "    <tr>\n",
              "      <th>Deccan Chargers</th>\n",
              "    </tr>\n",
              "    <tr>\n",
              "      <th>Kings XI Punjab</th>\n",
              "    </tr>\n",
              "    <tr>\n",
              "      <th>Delhi Daredevils</th>\n",
              "    </tr>\n",
              "    <tr>\n",
              "      <th>Kochi Tuskers Kerala</th>\n",
              "    </tr>\n",
              "    <tr>\n",
              "      <th>Pune Warriors</th>\n",
              "    </tr>\n",
              "    <tr>\n",
              "      <th>Sunrisers Hyderabad</th>\n",
              "    </tr>\n",
              "    <tr>\n",
              "      <th>Rising Pune Supergiants</th>\n",
              "    </tr>\n",
              "    <tr>\n",
              "      <th>Gujarat Lions</th>\n",
              "    </tr>\n",
              "  </tbody>\n",
              "</table>\n",
              "</div>"
            ],
            "text/plain": [
              "Empty DataFrame\n",
              "Columns: []\n",
              "Index: [Kolkata Knight Riders, Chennai Super Kings, Rajasthan Royals, Mumbai Indians, Deccan Chargers, Kings XI Punjab, Delhi Daredevils, Kochi Tuskers Kerala, Pune Warriors, Sunrisers Hyderabad, Rising Pune Supergiants, Gujarat Lions]"
            ]
          },
          "metadata": {
            "tags": []
          },
          "execution_count": 7
        }
      ]
    },
    {
      "cell_type": "code",
      "metadata": {
        "id": "YYPpXcCeDopF",
        "colab_type": "code",
        "outputId": "9e019f33-2fde-4898-ba7a-a3171ec742f1",
        "colab": {
          "base_uri": "https://localhost:8080/",
          "height": 204
        }
      },
      "source": [
        "data=match_data[match_data.team1==player_team]\n",
        "batting_first=list()\n",
        "for team in teams.index:\n",
        "    for venue in data.venue.unique():\n",
        "        matches=data[(data.venue==venue)&(data.team2==team)].id\n",
        "        runs=0\n",
        "        balls=0\n",
        "        for match in matches:\n",
        "            t=batsman_data[batsman_data.match_id==match].batsman_runs.sum()\n",
        "            runs=runs+t\n",
        "            balls=balls+len(batsman_data[(batsman_data.match_id==match)&(batsman_data.wide_runs==0)&(batsman_data.noball_runs==0)])\n",
        "        batting_first=batting_first+[[team,venue,1,balls,runs]]\n",
        "data=match_data[match_data.team2==player_team]\n",
        "batting_second=list()\n",
        "for team in teams.index:\n",
        "    for venue in data.venue.unique():\n",
        "        matches=data[(data.venue==venue)&(data.team1==team)].id\n",
        "        runs=0\n",
        "        balls=0\n",
        "        for match in matches:\n",
        "            t=batsman_data[batsman_data.match_id==match].batsman_runs.sum()\n",
        "            runs=runs+t\n",
        "            balls=balls+len(batsman_data[(batsman_data.match_id==match)&(batsman_data.wide_runs==0)&(batsman_data.noball_runs==0)])\n",
        "        batting_second=batting_second+[[team,venue,0,balls,runs]]\n",
        "    batting_first=batting_first+batting_second\n",
        "df=pd.DataFrame(data=batting_first,columns=['team','venue','batting_first','balls','runs'])\n",
        "\n",
        "df=df[df.runs!=0]\n",
        "df.head()\n",
        "        \n"
      ],
      "execution_count": 0,
      "outputs": [
        {
          "output_type": "execute_result",
          "data": {
            "text/html": [
              "<div>\n",
              "<style scoped>\n",
              "    .dataframe tbody tr th:only-of-type {\n",
              "        vertical-align: middle;\n",
              "    }\n",
              "\n",
              "    .dataframe tbody tr th {\n",
              "        vertical-align: top;\n",
              "    }\n",
              "\n",
              "    .dataframe thead th {\n",
              "        text-align: right;\n",
              "    }\n",
              "</style>\n",
              "<table border=\"1\" class=\"dataframe\">\n",
              "  <thead>\n",
              "    <tr style=\"text-align: right;\">\n",
              "      <th></th>\n",
              "      <th>team</th>\n",
              "      <th>venue</th>\n",
              "      <th>batting_first</th>\n",
              "      <th>balls</th>\n",
              "      <th>runs</th>\n",
              "    </tr>\n",
              "  </thead>\n",
              "  <tbody>\n",
              "    <tr>\n",
              "      <th>0</th>\n",
              "      <td>Kolkata Knight Riders</td>\n",
              "      <td>M Chinnaswamy Stadium</td>\n",
              "      <td>1</td>\n",
              "      <td>44</td>\n",
              "      <td>52</td>\n",
              "    </tr>\n",
              "    <tr>\n",
              "      <th>7</th>\n",
              "      <td>Kolkata Knight Riders</td>\n",
              "      <td>Eden Gardens</td>\n",
              "      <td>1</td>\n",
              "      <td>5</td>\n",
              "      <td>2</td>\n",
              "    </tr>\n",
              "    <tr>\n",
              "      <th>13</th>\n",
              "      <td>Kolkata Knight Riders</td>\n",
              "      <td>JSCA International Stadium Complex</td>\n",
              "      <td>1</td>\n",
              "      <td>14</td>\n",
              "      <td>17</td>\n",
              "    </tr>\n",
              "    <tr>\n",
              "      <th>19</th>\n",
              "      <td>Chennai Super Kings</td>\n",
              "      <td>M Chinnaswamy Stadium</td>\n",
              "      <td>1</td>\n",
              "      <td>94</td>\n",
              "      <td>153</td>\n",
              "    </tr>\n",
              "    <tr>\n",
              "      <th>21</th>\n",
              "      <td>Chennai Super Kings</td>\n",
              "      <td>MA Chidambaram Stadium, Chepauk</td>\n",
              "      <td>1</td>\n",
              "      <td>132</td>\n",
              "      <td>159</td>\n",
              "    </tr>\n",
              "  </tbody>\n",
              "</table>\n",
              "</div>"
            ],
            "text/plain": [
              "                     team                               venue  ...  balls  runs\n",
              "0   Kolkata Knight Riders               M Chinnaswamy Stadium  ...     44    52\n",
              "7   Kolkata Knight Riders                        Eden Gardens  ...      5     2\n",
              "13  Kolkata Knight Riders  JSCA International Stadium Complex  ...     14    17\n",
              "19    Chennai Super Kings               M Chinnaswamy Stadium  ...     94   153\n",
              "21    Chennai Super Kings     MA Chidambaram Stadium, Chepauk  ...    132   159\n",
              "\n",
              "[5 rows x 5 columns]"
            ]
          },
          "metadata": {
            "tags": []
          },
          "execution_count": 8
        }
      ]
    },
    {
      "cell_type": "code",
      "metadata": {
        "id": "5VHUV_pGD5eG",
        "colab_type": "code",
        "outputId": "c1ae77e5-97a5-4ecd-8270-58f09615dd55",
        "colab": {
          "base_uri": "https://localhost:8080/",
          "height": 404
        }
      },
      "source": [
        "fig = plt.figure(figsize=(16,8))  \n",
        "fig.add_subplot(221)\n",
        "df.groupby('team').runs.sum().plot(kind='bar',title='runs scored against each team')\n",
        "\n"
      ],
      "execution_count": 0,
      "outputs": [
        {
          "output_type": "execute_result",
          "data": {
            "text/plain": [
              "<matplotlib.axes._subplots.AxesSubplot at 0x7f2e670a7fd0>"
            ]
          },
          "metadata": {
            "tags": []
          },
          "execution_count": 9
        },
        {
          "output_type": "display_data",
          "data": {
            "image/png": "[encoded data removed]",
            "text/plain": [
              "<Figure size 1152x576 with 1 Axes>"
            ]
          },
          "metadata": {
            "tags": []
          }
        }
      ]
    },
    {
      "cell_type": "code",
      "metadata": {
        "id": "43D6HGsSD_fp",
        "colab_type": "code",
        "outputId": "28432e7a-d052-4ba7-ce35-f4bed596c434",
        "colab": {
          "base_uri": "https://localhost:8080/",
          "height": 547
        }
      },
      "source": [
        "fig = plt.figure(figsize=(16,8))  \n",
        "ax=fig.add_subplot(221)\n",
        "df.groupby('venue').runs.sum().plot(kind='bar',title='runs scored at each venue')"
      ],
      "execution_count": 0,
      "outputs": [
        {
          "output_type": "execute_result",
          "data": {
            "text/plain": [
              "<matplotlib.axes._subplots.AxesSubplot at 0x7f2e670a79e8>"
            ]
          },
          "metadata": {
            "tags": []
          },
          "execution_count": 10
        },
        {
          "output_type": "display_data",
          "data": {
            "image/png": "[encoded data removed]",
            "text/plain": [
              "<Figure size 1152x576 with 1 Axes>"
            ]
          },
          "metadata": {
            "tags": []
          }
        }
      ]
    },
    {
      "cell_type": "code",
      "metadata": {
        "id": "yjdjUW3cEHOX",
        "colab_type": "code",
        "outputId": "7b3724a9-ec92-4b4d-8f01-ebbe7daadb2a",
        "colab": {
          "base_uri": "https://localhost:8080/",
          "height": 293
        }
      },
      "source": [
        "fig = plt.figure(figsize=(16,8))  \n",
        "fig.add_subplot(221)\n",
        "\n",
        "df.groupby('batting_first').runs.sum().plot(kind='bar',title='batting_first vs batting_second')\n",
        "plt.xticks(rotation=0)\n"
      ],
      "execution_count": 0,
      "outputs": [
        {
          "output_type": "execute_result",
          "data": {
            "text/plain": [
              "(array([0, 1]), <a list of 2 Text xticklabel objects>)"
            ]
          },
          "metadata": {
            "tags": []
          },
          "execution_count": 11
        },
        {
          "output_type": "display_data",
          "data": {
            "image/png": "[encoded data removed]",
            "text/plain": [
              "<Figure size 1152x576 with 1 Axes>"
            ]
          },
          "metadata": {
            "tags": []
          }
        }
      ]
    },
    {
      "cell_type": "code",
      "metadata": {
        "id": "W-n32axVEM_f",
        "colab_type": "code",
        "colab": {}
      },
      "source": [
        "from sklearn.model_selection import train_test_split\n",
        "processed_df = df.copy()\n",
        "le = preprocessing.LabelEncoder()\n",
        "processed_df.team = le.fit_transform(processed_df.team)\n",
        "processed_df.venue = le.fit_transform(processed_df.venue)\n",
        "\n",
        "X = processed_df.drop(['runs'], axis=1).values\n",
        "y = processed_df['runs'].values\n",
        "X_train, X_test, y_train, y_test = train_test_split(X,y,test_size=0.2)\n"
      ],
      "execution_count": 0,
      "outputs": []
    },
    {
      "cell_type": "code",
      "metadata": {
        "id": "qrkrgm_yEjEJ",
        "colab_type": "code",
        "outputId": "a637dd86-fe92-442c-a61f-d5f3931924c1",
        "colab": {
          "base_uri": "https://localhost:8080/",
          "height": 1000
        }
      },
      "source": [
        "\n",
        "\n",
        "from keras.models import Sequential\n",
        "from keras.layers import Dense\n",
        "n_cols = X_train.shape[1]\n",
        "\n",
        "model_mc = Sequential()\n",
        "\n",
        "\n",
        "model_mc.add(Dense(200, activation='relu', input_shape=(n_cols,)))\n",
        "model_mc.add(Dense(200, activation='relu'))\n",
        "model_mc.add(Dense(200, activation='relu'))\n",
        "model_mc.add(Dense(1))\n",
        "model_mc.compile(optimizer='adam', loss='mean_squared_error')\n",
        "\n",
        "\n",
        "\n",
        "model_mc.fit(X_train, y_train, validation_split=0.2, epochs=30)\n",
        "\n",
        "\n",
        "\n"
      ],
      "execution_count": 0,
      "outputs": [
        {
          "output_type": "stream",
          "text": [
            "WARNING:tensorflow:From /usr/local/lib/python3.6/dist-packages/keras/backend/tensorflow_backend.py:1033: The name tf.assign_add is deprecated. Please use tf.compat.v1.assign_add instead.\n",
            "\n",
            "WARNING:tensorflow:From /usr/local/lib/python3.6/dist-packages/keras/backend/tensorflow_backend.py:1020: The name tf.assign is deprecated. Please use tf.compat.v1.assign instead.\n",
            "\n",
            "WARNING:tensorflow:From /usr/local/lib/python3.6/dist-packages/keras/backend/tensorflow_backend.py:3005: The name tf.Session is deprecated. Please use tf.compat.v1.Session instead.\n",
            "\n",
            "Train on 210 samples, validate on 53 samples\n",
            "Epoch 1/30\n",
            "WARNING:tensorflow:From /usr/local/lib/python3.6/dist-packages/keras/backend/tensorflow_backend.py:190: The name tf.get_default_session is deprecated. Please use tf.compat.v1.get_default_session instead.\n",
            "\n",
            "WARNING:tensorflow:From /usr/local/lib/python3.6/dist-packages/keras/backend/tensorflow_backend.py:197: The name tf.ConfigProto is deprecated. Please use tf.compat.v1.ConfigProto instead.\n",
            "\n",
            "WARNING:tensorflow:From /usr/local/lib/python3.6/dist-packages/keras/backend/tensorflow_backend.py:207: The name tf.global_variables is deprecated. Please use tf.compat.v1.global_variables instead.\n",
            "\n",
            "WARNING:tensorflow:From /usr/local/lib/python3.6/dist-packages/keras/backend/tensorflow_backend.py:216: The name tf.is_variable_initialized is deprecated. Please use tf.compat.v1.is_variable_initialized instead.\n",
            "\n",
            "WARNING:tensorflow:From /usr/local/lib/python3.6/dist-packages/keras/backend/tensorflow_backend.py:223: The name tf.variables_initializer is deprecated. Please use tf.compat.v1.variables_initializer instead.\n",
            "\n",
            "210/210 [==============================] - 1s 3ms/step - loss: 3663.4221 - val_loss: 890.2825\n",
            "Epoch 2/30\n",
            "210/210 [==============================] - 0s 120us/step - loss: 483.1044 - val_loss: 452.2497\n",
            "Epoch 3/30\n",
            "210/210 [==============================] - 0s 117us/step - loss: 439.4929 - val_loss: 120.6057\n",
            "Epoch 4/30\n",
            "210/210 [==============================] - 0s 105us/step - loss: 137.6642 - val_loss: 169.1436\n",
            "Epoch 5/30\n",
            "210/210 [==============================] - 0s 105us/step - loss: 134.8133 - val_loss: 89.6664\n",
            "Epoch 6/30\n",
            "210/210 [==============================] - 0s 97us/step - loss: 91.5299 - val_loss: 90.5082\n",
            "Epoch 7/30\n",
            "210/210 [==============================] - 0s 92us/step - loss: 73.4823 - val_loss: 90.7428\n",
            "Epoch 8/30\n",
            "210/210 [==============================] - 0s 112us/step - loss: 82.3838 - val_loss: 80.8401\n",
            "Epoch 9/30\n",
            "210/210 [==============================] - 0s 101us/step - loss: 81.7496 - val_loss: 80.9550\n",
            "Epoch 10/30\n",
            "210/210 [==============================] - 0s 99us/step - loss: 73.4370 - val_loss: 88.8538\n",
            "Epoch 11/30\n",
            "210/210 [==============================] - 0s 99us/step - loss: 74.8232 - val_loss: 80.5639\n",
            "Epoch 12/30\n",
            "210/210 [==============================] - 0s 98us/step - loss: 73.4397 - val_loss: 80.5303\n",
            "Epoch 13/30\n",
            "210/210 [==============================] - 0s 115us/step - loss: 73.0926 - val_loss: 84.8768\n",
            "Epoch 14/30\n",
            "210/210 [==============================] - 0s 94us/step - loss: 73.0811 - val_loss: 79.3497\n",
            "Epoch 15/30\n",
            "210/210 [==============================] - 0s 106us/step - loss: 70.8830 - val_loss: 83.1977\n",
            "Epoch 16/30\n",
            "210/210 [==============================] - 0s 104us/step - loss: 73.4685 - val_loss: 79.2999\n",
            "Epoch 17/30\n",
            "210/210 [==============================] - 0s 101us/step - loss: 72.3838 - val_loss: 78.8170\n",
            "Epoch 18/30\n",
            "210/210 [==============================] - 0s 94us/step - loss: 73.2690 - val_loss: 82.1935\n",
            "Epoch 19/30\n",
            "210/210 [==============================] - 0s 100us/step - loss: 68.9436 - val_loss: 78.5211\n",
            "Epoch 20/30\n",
            "210/210 [==============================] - 0s 93us/step - loss: 72.6625 - val_loss: 78.5420\n",
            "Epoch 21/30\n",
            "210/210 [==============================] - 0s 102us/step - loss: 71.4340 - val_loss: 80.6799\n",
            "Epoch 22/30\n",
            "210/210 [==============================] - 0s 105us/step - loss: 72.1129 - val_loss: 77.6774\n",
            "Epoch 23/30\n",
            "210/210 [==============================] - 0s 108us/step - loss: 75.9720 - val_loss: 79.7839\n",
            "Epoch 24/30\n",
            "210/210 [==============================] - 0s 141us/step - loss: 70.3133 - val_loss: 77.4996\n",
            "Epoch 25/30\n",
            "210/210 [==============================] - 0s 97us/step - loss: 69.2979 - val_loss: 80.4015\n",
            "Epoch 26/30\n",
            "210/210 [==============================] - 0s 100us/step - loss: 70.1654 - val_loss: 77.6731\n",
            "Epoch 27/30\n",
            "210/210 [==============================] - 0s 98us/step - loss: 69.3231 - val_loss: 78.3286\n",
            "Epoch 28/30\n",
            "210/210 [==============================] - 0s 95us/step - loss: 68.4761 - val_loss: 77.1254\n",
            "Epoch 29/30\n",
            "210/210 [==============================] - 0s 98us/step - loss: 70.3000 - val_loss: 77.1627\n",
            "Epoch 30/30\n",
            "210/210 [==============================] - 0s 94us/step - loss: 69.1690 - val_loss: 75.8732\n"
          ],
          "name": "stdout"
        },
        {
          "output_type": "execute_result",
          "data": {
            "text/plain": [
              "<keras.callbacks.History at 0x7f2e1d8e2470>"
            ]
          },
          "metadata": {
            "tags": []
          },
          "execution_count": 32
        }
      ]
    },
    {
      "cell_type": "code",
      "metadata": {
        "id": "bvZIoAGxFdyv",
        "colab_type": "code",
        "outputId": "b64da8f5-4dfa-4ff0-c84a-ee7fc6676fba",
        "colab": {
          "base_uri": "https://localhost:8080/",
          "height": 34
        }
      },
      "source": [
        "y_1= model_mc.predict(X_test)\n",
        "print(metrics.mean_squared_error(y_test,y_1))"
      ],
      "execution_count": 0,
      "outputs": [
        {
          "output_type": "stream",
          "text": [
            "104.84192220104603\n"
          ],
          "name": "stdout"
        }
      ]
    },
    {
      "cell_type": "code",
      "metadata": {
        "id": "T3L0Mi2ZOzwb",
        "colab_type": "code",
        "colab": {}
      },
      "source": [
        ""
      ],
      "execution_count": 0,
      "outputs": []
    },
    {
      "cell_type": "code",
      "metadata": {
        "id": "wJty_WsHQtY9",
        "colab_type": "code",
        "colab": {}
      },
      "source": [
        ""
      ],
      "execution_count": 0,
      "outputs": []
    }
  ]
}